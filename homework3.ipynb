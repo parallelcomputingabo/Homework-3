{
  "nbformat": 4,
  "nbformat_minor": 0,
  "metadata": {
    "colab": {
      "provenance": [],
      "gpuType": "T4"
    },
    "kernelspec": {
      "name": "python3",
      "display_name": "Python 3"
    },
    "language_info": {
      "name": "python"
    },
    "accelerator": "GPU"
  },
  "cells": [
    {
      "cell_type": "code",
      "execution_count": 104,
      "metadata": {
        "id": "pf9VjWTkuPxY",
        "colab": {
          "base_uri": "https://localhost:8080/"
        },
        "outputId": "3fdd2fa8-f0f0-4d10-9360-2ed4a402bb84"
      },
      "outputs": [
        {
          "output_type": "stream",
          "name": "stdout",
          "text": [
            "Naive result validation failed for case 0\n",
            "Case 0 (64x64x64):\n",
            "Naive time: 0.17232 seconds\n"
          ]
        }
      ],
      "source": [
        "!nvcc -arch=sm_75 main.cu -o main\n",
        "!./main 0"
      ]
    },
    {
      "cell_type": "code",
      "source": [
        "!nvcc -arch=sm_75 main.cu -o main\n",
        "!./main 1"
      ],
      "metadata": {
        "colab": {
          "base_uri": "https://localhost:8080/"
        },
        "id": "yuNr3UuSCcw3",
        "outputId": "5d800842-b632-427f-b668-09beeb6deccf"
      },
      "execution_count": 105,
      "outputs": [
        {
          "output_type": "stream",
          "name": "stdout",
          "text": [
            "Naive result validation failed for case 1\n",
            "Case 1 (128x64x128):\n",
            "Naive time: 0.19248 seconds\n"
          ]
        }
      ]
    },
    {
      "cell_type": "code",
      "source": [
        "!nvcc -arch=sm_75 main.cu -o main\n",
        "!./main 2"
      ],
      "metadata": {
        "colab": {
          "base_uri": "https://localhost:8080/"
        },
        "id": "L_u6cmeMCeiI",
        "outputId": "9c93476b-d9ac-4407-98b0-08c13e5ab546"
      },
      "execution_count": 106,
      "outputs": [
        {
          "output_type": "stream",
          "name": "stdout",
          "text": [
            "Naive result validation failed for case 2\n",
            "Case 2 (100x128x56):\n",
            "Naive time: 0.23552 seconds\n"
          ]
        }
      ]
    },
    {
      "cell_type": "code",
      "source": [
        "!nvcc -arch=sm_75 main.cu -o main\n",
        "!./main 3"
      ],
      "metadata": {
        "colab": {
          "base_uri": "https://localhost:8080/"
        },
        "id": "TwbcI4KpCf_n",
        "outputId": "989fc5f1-c417-4dab-9c21-b1b94746458c"
      },
      "execution_count": 107,
      "outputs": [
        {
          "output_type": "stream",
          "name": "stdout",
          "text": [
            "Naive result validation failed for case 3\n",
            "Case 3 (128x64x128):\n",
            "Naive time: 0.228768 seconds\n"
          ]
        }
      ]
    },
    {
      "cell_type": "code",
      "source": [
        "!nvcc -arch=sm_75 main.cu -o main\n",
        "!./main 4"
      ],
      "metadata": {
        "colab": {
          "base_uri": "https://localhost:8080/"
        },
        "id": "b_ehW0GFCh-O",
        "outputId": "854bd3f6-46d4-4d06-8b08-ca10f6737034"
      },
      "execution_count": 108,
      "outputs": [
        {
          "output_type": "stream",
          "name": "stdout",
          "text": [
            "Naive result validation failed for case 4\n",
            "Case 4 (32x128x32):\n",
            "Naive time: 0.246496 seconds\n"
          ]
        }
      ]
    },
    {
      "cell_type": "code",
      "source": [
        "!nvcc -arch=sm_75 main.cu -o main\n",
        "!./main 5"
      ],
      "metadata": {
        "colab": {
          "base_uri": "https://localhost:8080/"
        },
        "id": "4TgcyoSMCj-e",
        "outputId": "d16aa733-7862-4bd6-dfce-44d446be2cf8"
      },
      "execution_count": 109,
      "outputs": [
        {
          "output_type": "stream",
          "name": "stdout",
          "text": [
            "Naive result validation failed for case 5\n",
            "Case 5 (200x100x256):\n",
            "Naive time: 0.296128 seconds\n"
          ]
        }
      ]
    },
    {
      "cell_type": "code",
      "source": [
        "!nvcc -arch=sm_75 main.cu -o main\n",
        "!./main 6"
      ],
      "metadata": {
        "colab": {
          "base_uri": "https://localhost:8080/"
        },
        "id": "E4n6eksNClgP",
        "outputId": "69303062-9600-4bac-89e4-ae444fa4e6cd"
      },
      "execution_count": 110,
      "outputs": [
        {
          "output_type": "stream",
          "name": "stdout",
          "text": [
            "Naive result validation failed for case 6\n",
            "Case 6 (256x256x256):\n",
            "Naive time: 0.577824 seconds\n"
          ]
        }
      ]
    },
    {
      "cell_type": "code",
      "source": [
        "!nvcc -arch=sm_75 main.cu -o main\n",
        "!./main 7"
      ],
      "metadata": {
        "colab": {
          "base_uri": "https://localhost:8080/"
        },
        "id": "CnzlCaMoCmpW",
        "outputId": "a255ef04-fb5a-4543-9996-26e41fe56fda"
      },
      "execution_count": 111,
      "outputs": [
        {
          "output_type": "stream",
          "name": "stdout",
          "text": [
            "Naive result validation failed for case 7\n",
            "Case 7 (256x300x256):\n",
            "Naive time: 0.708128 seconds\n"
          ]
        }
      ]
    },
    {
      "cell_type": "code",
      "source": [
        "!nvcc -arch=sm_75 main.cu -o main\n",
        "!./main 8"
      ],
      "metadata": {
        "colab": {
          "base_uri": "https://localhost:8080/"
        },
        "id": "mMoIPGqICnsm",
        "outputId": "bf09e1ab-b443-4c9f-f391-df728a5720e8"
      },
      "execution_count": 112,
      "outputs": [
        {
          "output_type": "stream",
          "name": "stdout",
          "text": [
            "Naive result validation failed for case 8\n",
            "Case 8 (64x128x64):\n",
            "Naive time: 0.23168 seconds\n"
          ]
        }
      ]
    },
    {
      "cell_type": "code",
      "source": [
        "!nvcc -arch=sm_75 main.cu -o main\n",
        "!./main 9"
      ],
      "metadata": {
        "colab": {
          "base_uri": "https://localhost:8080/"
        },
        "id": "7orvz8upCozg",
        "outputId": "56a36e7c-0c84-4cc4-ce05-9c4b581b9851"
      },
      "execution_count": 113,
      "outputs": [
        {
          "output_type": "stream",
          "name": "stdout",
          "text": [
            "Naive result validation failed for case 9\n",
            "Case 9 (256x256x257):\n",
            "Naive time: 0.583904 seconds\n"
          ]
        }
      ]
    }
  ]
}